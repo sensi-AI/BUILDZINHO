{
  "nbformat": 4,
  "nbformat_minor": 0,
  "metadata": {
    "colab": {
      "provenance": []
    },
    "kernelspec": {
      "name": "python3",
      "display_name": "Python 3"
    },
    "language_info": {
      "name": "python"
    }
  },
  "cells": [
    {
      "cell_type": "markdown",
      "source": [
        "![image.png](https://media.licdn.com/dms/image/C4D12AQE_2KjXvCnvIA/article-cover_image-shrink_600_2000/0/1604856853084?e=2147483647&v=beta&t=P5j3rqfrELJ9VWfb9F5_gs32Ia7V82Efwc9i1Ib1q6I)\n",
        "\n",
        "A análise de sentimento, também conhecida como mineração de opinião, é o processo de determinação do tom emocional de um texto.\n",
        "\n",
        "> https://aws.amazon.com/pt/what-is/sentiment-analysis/\n",
        "\n",
        "> https://towardsdatascience.com/sentiment-analysis-concept-analysis-and-applications-6c94d6f58c17"
      ],
      "metadata": {
        "id": "Scy_itTRHpME"
      }
    },
    {
      "cell_type": "markdown",
      "source": [
        "## Introdução à API"
      ],
      "metadata": {
        "id": "dolY_wAiknJA"
      }
    },
    {
      "cell_type": "markdown",
      "source": [
        "###Principais fontes de conhecimento no assunto\n",
        "\n",
        "![image.png](https://php.com.br/admin/app/images/posts/50-documentation-718x640.jpg)"
      ],
      "metadata": {
        "id": "hNmUbff5krV7"
      }
    },
    {
      "cell_type": "markdown",
      "source": [
        "Trouxemos alguns links de páginas e vídeos para nos ajudar a entender melhor o que é uma API:\n",
        "\n",
        "1. https://aws.amazon.com/pt/what-is/api/ neste artigo da AWS traz um resumo completo sobre API, desde de o principio até como escrever a documentação da sua propria API\n",
        "\n",
        "2. https://www.redhat.com/pt-br/topics/api/what-are-application-programming-interfaces neste link temos uma leitura rápida, onde mostra para nós as principais vantagens, tipos e aplicações das APIs\n",
        "\n",
        "3. https://www.youtube.com/watch?v=RVIJnOHKOLc um vídeo curto do youtube explicando rapidamente o que é uma API e trazendo um exemplo prático\n",
        "\n",
        "No nosso projeto vamos utilizar em específico a API do ChatGPT, principlamente para analisar sentimentos de frases e derivados.\n",
        "Porque escolhemos essa API? Os principais motivos são as conversas interativas, permitindo enviar uma sequência de mensagem, respostas flexiveis sendo mais longas e descritivas, a variedade de aplicações que a API nos permite e acesso ao modelo de linguagem do ChatGPT sem precisar treiná-lo e mantê-lo por conta própria.\n",
        "Alguns links para nos ajudar a usar essa API\n",
        "\n",
        "1. https://openai.com/blog/introducing-chatgpt-and-whisper-apis a própria OpenAI traz esse blog mostrando algumas aplicações da API e fala um pouco sobre ele\n",
        "\n",
        "2. https://promovaweb.com/chatgpt/blog/como-usar-a-api-do-chatgpt-64032a8e3e3cc neste link traz um resumo bastante completo da API do ChatGPT, falando desde o que é até como usa-lo na sua aplicação"
      ],
      "metadata": {
        "id": "zKi35asq_pH4"
      }
    },
    {
      "cell_type": "markdown",
      "source": [
        "###Como funcionam os parâmetros da API?"
      ],
      "metadata": {
        "id": "Z5JfGa7ok4At"
      }
    },
    {
      "cell_type": "markdown",
      "source": [
        "Os **parâmetros** de uma API são utilizados para estabelecer as informações/processos que serão desejados em uma requisição. Cada API apresenta seus próprios conjuntos de parâmetros, e é importante consultar a documentação oficial de cada uma delas, visando obter detalhes precisos sobre os parâmetros disponíveis e suas funções.  \n",
        "\n",
        "Alguns exemplos de parâmetros em ***APIs famosas*** são:  \n",
        "- *API do Google Maps:*\n",
        "  *   'key': Chave de API usada para autenticação e identificação do usuário.  \n",
        "  *   'address': Endereço ou coordenadas geográficas relacionadas a localização.  \n",
        "  *   'language': Idioma em que os resultados devem ser retornados.\n",
        "\n",
        "- *API do Twitter*:\n",
        "\n",
        "  *   'q': Consulta de pesquisa para filtrar tweets por palavra-chave ou hashtag.  \n",
        "  *   'count': Define o número de tweets retornados por página.  \n",
        "  *   'result_type': Especifica o tipo de resultados desejados, como os tweets mais recentes, populares ou mistos.\n",
        "\n",
        "- *API do YouTube*:\n",
        "\n",
        "  *   'q': Consulta de pesquisa para encontrar vídeos com base em palavras-chave ou termos específicos.  \n",
        "  *   'maxResults': Define o número máximo de vídeos a serem retornados.  \n",
        "  *   'type': Especifica o tipo de recursos a serem pesquisados, como vídeos, canais ou listas de reprodução.\n",
        "\n",
        "\n",
        "\n"
      ],
      "metadata": {
        "id": "q69wvUZNlJHs"
      }
    },
    {
      "cell_type": "markdown",
      "source": [
        "#### Quais os melhores parâmetros para o nosso projeto?\n"
      ],
      "metadata": {
        "id": "XwZAJev-oamB"
      }
    },
    {
      "cell_type": "markdown",
      "source": [
        "Alguns dos parâmetros da **OpenAI API** são:  \n",
        "*   model: Especifica o modelo de linguagem a ser usado para a geração de texto. Exemplos: 'gpt-4', 'gpt-3.5-turbo', 'text-davinci-003', 'ada'\n",
        "\n",
        "*   prompt: Define o texto inicial ou a instrução que será fornecida para o modelo.\n",
        "\n",
        "*   max_tokens: Limita o número máximo de tokens (unidades de texto) na resposta gerada. *(Limita gastos!)*\n",
        "\n",
        "*   temperature: Controla a aleatoriedade das respostas geradas. Definição de respostas concretas ou mais criativas/diversificadas.\n",
        "\n",
        "*   top_p: Define uma probabilidade cumulativa para limitar a geração de texto.\n",
        "\n",
        "*   frequency_penalty: Controla a tendência do modelo de evitar repetição de palavras ou frases fornecidas no prompt.\n",
        "\n",
        "*   presence_penalty: Controla a preferência do modelo em incluir palavras ou frases fornecidas no prompt.\n",
        "\n",
        "*   stop: Uma lista de sequências de texto que, se geradas pelo modelo, indicará o término da resposta.\n",
        "\n",
        "*   n: Especifica o número de respostas independentes a serem geradas.\n",
        "\n",
        "*   user: Permite fornecer um ID de usuário exclusivo para monitorar o uso da API.\n",
        "\n",
        "*   log_level: Define o nível de registro de eventos para a solicitação.   "
      ],
      "metadata": {
        "id": "Knl-9lg4owd4"
      }
    },
    {
      "cell_type": "markdown",
      "source": [
        "*Portanto, os principais parâmetros para o projeto sensiAI são:*\n",
        "- 'model': definir o melhor modelo (custo-benefício) para a analíse de sentimentos.\n",
        "- 'prompt': input do texto a ser analisado e como esse processo deve ser feito.\n",
        "- 'max_tokens': controlar custos.\n",
        "- 'temperature': define respostas mais concretas (caso possível) e com menos tokens.  \n",
        "- 'n': capacidade de gerar mais de uma resposta, visando assegurar o resultado."
      ],
      "metadata": {
        "id": "jpeBhN9E9h9G"
      }
    },
    {
      "cell_type": "markdown",
      "source": [],
      "metadata": {
        "id": "mYMSYhaLlKTr"
      }
    },
    {
      "cell_type": "markdown",
      "source": [
        "##Engenharia de Prompts"
      ],
      "metadata": {
        "id": "YZPYln2BlDBU"
      }
    },
    {
      "cell_type": "markdown",
      "source": [
        "![image.png](https://codersera.com/blog/wp-content/uploads/2021/11/Engineering.jpeg)"
      ],
      "metadata": {
        "id": "Q4Drk401HOCU"
      }
    },
    {
      "cell_type": "markdown",
      "source": [
        "###O que é prompt?"
      ],
      "metadata": {
        "id": "w4ckBsY2lLXc"
      }
    },
    {
      "cell_type": "markdown",
      "source": [
        "**Prompt** é um termo utilizado para designar uma instrução ou solicitação. Assim, em IA, prompt pode ser o comando de entrada sobre o qual se espera uma resposta (saída), como por exemplo no Chat GPT em que uma frase é passada como entrada e então é retornada uma resposta à esta.\n",
        "\n",
        "Desse modo, se encaixam como prompt qualquer tipo de texto ou outro comando que realize a interação humano-computador, seja uma declaração, pergunta, confirmação de informação, dentre outros.\n",
        "Logo, a qualidade do prompt influenciará na resposta obtida, além da capacidade do modelo de entender e processar tal entrada."
      ],
      "metadata": {
        "id": "N3ry7SL_lTZ4"
      }
    },
    {
      "cell_type": "markdown",
      "source": [
        "**Aplicações**\n",
        "\n",
        "Assim sendo, nota-se que prompts podem ser utilizados de forma a interagir com o usuário, em que este fornece dados de entrada ao programa ou faz alguma ação. Tendo isso em conta, os prompts podem ser identificados em linha de comando, em formulário de aplicativos ou páginas da web, ou ainda em interface gráfica, mostrando uma janela ao usuário com uma mensagem."
      ],
      "metadata": {
        "id": "YO-rj7sFCFc7"
      }
    },
    {
      "cell_type": "markdown",
      "source": [
        "###Como criar um prompt eficaz e eficiente?"
      ],
      "metadata": {
        "id": "K_Xs4ulPlOIk"
      }
    },
    {
      "cell_type": "markdown",
      "source": [
        "###Seja claro e específico\n",
        "  Independentemente do tipo de prompt a ser usado, certifique-se de ser claro e específico nos seus comandos. Quanto mais detalhado for o seu direcionamento, melhores serão as respostas geradas e o histórico da IA na sua conta. \n",
        "###Forneça contexto\n",
        "  Sempre que iniciar um input (entrada), forneça um contexto para orientar a Inteligência. Pense que o GPT e outros tipos de chatbots tem um banco de dados imenso com assuntos semelhantes e em diferentes contextos. \n",
        "###Separe a sua conversa em etapas\n",
        "Se você precisa usar prompts de tarefas ou de uma conversa longa, prefira dividir a interação e comandos em etapas. \n",
        "\n",
        "Isso é apenas o básico da engenharia de prompts, que é uma área muito promissora. Aqui estão 2 cursos para quem se interessar em aprender um pouco mais sobre o assunto.\n",
        "\n",
        "https://learnprompting.org/docs/intro\n",
        "\n",
        "https://www.deeplearning.ai/short-courses/chatgpt-prompt-engineering-for-developers/"
      ],
      "metadata": {
        "id": "SGc4sVFHlGj0"
      }
    },
    {
      "cell_type": "markdown",
      "source": [
        "###Qual o escopo/domínio de prompts que nossa aplicação poderá receber?\n",
        "\n",
        "![image.png](https://uploads-ssl.webflow.com/6399c61683700ed8ab159d36/63ce9cef9f6192bf83507e57_gesta%CC%83o-de-projetos-escopo-1024x682.png)"
      ],
      "metadata": {
        "id": "LWpFKGS1lUO1"
      }
    },
    {
      "cell_type": "markdown",
      "source": [
        "A aplicação de análise de sentimento pode receber uma ampla variedade de prompts, dependendo dos requisitos e do contexto específico do problema\n",
        "\n",
        "1. Análise de sentimentos em textos curtos: A aplicação pode receber prompts como frases ou pequenos trechos de texto, onde o objetivo é determinar se o sentimento expresso é positivo, negativo ou neutro.\n",
        "Exemplo: \"O filme que eu assisti ontem à noite foi incrível!\"\n",
        "\n",
        "2. Análise de sentimentos em documentos extensos: Nesse caso, a aplicação pode receber prompts compostos por textos mais longos, como estimativas de produtos, feedbacks de clientes ou postagens em mídias sociais, e precisa determinar o sentimento geral expresso no documento.\n",
        "Exemplo: \"A comida no restaurante era deliciosa, mas o serviço foi terrível. Definitivamente não voltarei lá.\"\n",
        "\n",
        "3. Classificação de sentimentos específicos: Em algumas situações, é necessário analisar sentimentos em relação a aspectos específicos dentro de um texto. Nesse caso, os prompts podem conter informações adicionais sobre o aspecto que está sendo avaliado.\n",
        "Exemplo: \"A qualidade do produto é ótima, mas a entrega gostei muito.\" \n",
        "\n"
      ],
      "metadata": {
        "id": "USqEGuShJxaF"
      }
    }
  ]
}